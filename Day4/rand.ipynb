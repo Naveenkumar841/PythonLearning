{
 "cells": [
  {
   "cell_type": "code",
   "execution_count": 11,
   "metadata": {},
   "outputs": [
    {
     "name": "stdout",
     "output_type": "stream",
     "text": [
      "9 'randint'\n"
     ]
    },
    {
     "data": {
      "text/plain": [
       "' \\nDefinition and Usage\\nThe randint() method returns an integer number selected element from the specified range.\\nNote: This method is an alias for randrange(start, stop+1).\\n\\nSyntax\\nrandom.randint(start, stop)\\n\\nParameter Values\\nParameter\\tDescription\\nstart\\t    Required. An integer specifying at which position to start.\\nstop\\t    Required. An integer specifying at which position to end.\\n\\n'"
      ]
     },
     "execution_count": 11,
     "metadata": {},
     "output_type": "execute_result"
    }
   ],
   "source": [
    "import random\n",
    "\n",
    "print(random.randint(3, 9),\"'randint'\")\n",
    "\n",
    "#returns a number between 3 and 9 (both included\n",
    "\n",
    "\"\"\" \n",
    "Definition and Usage\n",
    "The randint() method returns an integer number selected element from the specified range.\n",
    "Note: This method is an alias for randrange(start, stop+1).\n",
    "\n",
    "Syntax\n",
    "random.randint(start, stop)\n",
    "\n",
    "Parameter Values\n",
    "Parameter\tDescription\n",
    "start\t    Required. An integer specifying at which position to start.\n",
    "stop\t    Required. An integer specifying at which position to end.\n",
    "\n",
    "\"\"\""
   ]
  },
  {
   "cell_type": "code",
   "execution_count": 13,
   "metadata": {},
   "outputs": [
    {
     "name": "stdout",
     "output_type": "stream",
     "text": [
      "Computer\n"
     ]
    }
   ],
   "source": [
    "import random\n",
    "\n",
    "mylist = [\"Laptop\", \"Computer\", \"Mobile\"]\n",
    "\n",
    "print(random.choice(mylist))\n"
   ]
  },
  {
   "cell_type": "code",
   "execution_count": 34,
   "metadata": {},
   "outputs": [
    {
     "name": "stdout",
     "output_type": "stream",
     "text": [
      "a\n"
     ]
    }
   ],
   "source": [
    "import random\n",
    "\n",
    "name = \"Naveen\"\n",
    "\n",
    "print(random.choice(name))\n"
   ]
  },
  {
   "cell_type": "code",
   "execution_count": 37,
   "metadata": {},
   "outputs": [
    {
     "name": "stdout",
     "output_type": "stream",
     "text": [
      "['Naveen', 'Mehtab', 'Naveen', 'Mehtab', 'Mehtab', 'Naveen', 'Mehtab', 'Mehtab', 'Naveen', 'Mehtab', 'Mehtab', 'Mehtab', 'Mehtab', 'Mehtab']\n"
     ]
    }
   ],
   "source": [
    "import random\n",
    "\n",
    "mylist = [\"Naveen\", \"Mehtab\", \"Sohail\"]\n",
    "\n",
    "print(random.choices(mylist, weights = [2, 2, 2 ], k = 14))\n"
   ]
  },
  {
   "cell_type": "code",
   "execution_count": null,
   "metadata": {},
   "outputs": [],
   "source": []
  }
 ],
 "metadata": {
  "kernelspec": {
   "display_name": "base",
   "language": "python",
   "name": "python3"
  },
  "language_info": {
   "codemirror_mode": {
    "name": "ipython",
    "version": 3
   },
   "file_extension": ".py",
   "mimetype": "text/x-python",
   "name": "python",
   "nbconvert_exporter": "python",
   "pygments_lexer": "ipython3",
   "version": "3.12.7"
  }
 },
 "nbformat": 4,
 "nbformat_minor": 2
}
