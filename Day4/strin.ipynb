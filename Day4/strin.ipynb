{
 "cells": [
  {
   "cell_type": "code",
   "execution_count": 1,
   "metadata": {},
   "outputs": [
    {
     "name": "stdout",
     "output_type": "stream",
     "text": [
      "Hello\n",
      "Hello\n"
     ]
    }
   ],
   "source": [
    "#You can use double or single quotes:\n",
    "\n",
    "print(\"Hello\")\n",
    "print('Hello')"
   ]
  },
  {
   "cell_type": "code",
   "execution_count": 7,
   "metadata": {},
   "outputs": [
    {
     "name": "stdout",
     "output_type": "stream",
     "text": [
      "Hello I am Naveen\n",
      "Naveen's Code \n",
      "My name is \"Naveen\"\n",
      "'This is Naveen Kumar'\n"
     ]
    }
   ],
   "source": [
    "print(\"Hello I am Naveen\")\n",
    "print(\"Naveen's Code \")\n",
    "print('My name is \"Naveen\"')\n",
    "print(\"'This is Naveen Kumar'\")\n"
   ]
  },
  {
   "cell_type": "code",
   "execution_count": 11,
   "metadata": {},
   "outputs": [
    {
     "name": "stdout",
     "output_type": "stream",
     "text": [
      "H\n"
     ]
    }
   ],
   "source": [
    "d = \"Hello, World!\"\n",
    "print(d[0])\n"
   ]
  },
  {
   "cell_type": "code",
   "execution_count": 13,
   "metadata": {},
   "outputs": [
    {
     "name": "stdout",
     "output_type": "stream",
     "text": [
      "N\n",
      "a\n",
      "v\n",
      "e\n",
      "e\n",
      "n\n"
     ]
    }
   ],
   "source": [
    "#Looping Through a String\n",
    "#Since strings are arrays, we can loop through the characters in a string, with a for loop.\n",
    "for e in \"Naveen\":\n",
    " print (e)"
   ]
  },
  {
   "cell_type": "code",
   "execution_count": 15,
   "metadata": {},
   "outputs": [
    {
     "name": "stdout",
     "output_type": "stream",
     "text": [
      "String Length Of Balani\n",
      "6\n"
     ]
    }
   ],
   "source": [
    "print(\"String Length Of Balani\")\n",
    "f = \"Balani\"\n",
    "\n",
    "print(len(f))"
   ]
  },
  {
   "cell_type": "code",
   "execution_count": 16,
   "metadata": {},
   "outputs": [
    {
     "name": "stdout",
     "output_type": "stream",
     "text": [
      "True\n"
     ]
    }
   ],
   "source": [
    "Text = \"The best things in life are free!\"\n",
    "print(\"free\" in Text)"
   ]
  },
  {
   "cell_type": "code",
   "execution_count": 19,
   "metadata": {},
   "outputs": [
    {
     "name": "stdout",
     "output_type": "stream",
     "text": [
      "The Laptop is present\n"
     ]
    }
   ],
   "source": [
    "#Use it in an if statement:\n",
    "text = \"this is laptop\"\n",
    "if \"laptop\" in text:\n",
    "    print(\"The Laptop is present\")"
   ]
  },
  {
   "cell_type": "code",
   "execution_count": 30,
   "metadata": {},
   "outputs": [
    {
     "name": "stdout",
     "output_type": "stream",
     "text": [
      "False\n"
     ]
    }
   ],
   "source": [
    "txt = \"Where is Mobile\"\n",
    "print(\"Where is Mobile\" not in txt)"
   ]
  },
  {
   "cell_type": "code",
   "execution_count": 33,
   "metadata": {},
   "outputs": [
    {
     "name": "stdout",
     "output_type": "stream",
     "text": [
      "yes Expensive is available\n"
     ]
    }
   ],
   "source": [
    "te_xt = \"The best thigs in life are Expensive\"\n",
    "if \"Expensive\" not in te_xt:\n",
    " print(\"NO 'Expensive' in not present\")\n",
    "else:\n",
    "    print(\"yes Expensive is available\")"
   ]
  },
  {
   "cell_type": "code",
   "execution_count": null,
   "metadata": {},
   "outputs": [],
   "source": [
    "    "
   ]
  }
 ],
 "metadata": {
  "kernelspec": {
   "display_name": "base",
   "language": "python",
   "name": "python3"
  },
  "language_info": {
   "codemirror_mode": {
    "name": "ipython",
    "version": 3
   },
   "file_extension": ".py",
   "mimetype": "text/x-python",
   "name": "python",
   "nbconvert_exporter": "python",
   "pygments_lexer": "ipython3",
   "version": "3.12.7"
  }
 },
 "nbformat": 4,
 "nbformat_minor": 2
}
