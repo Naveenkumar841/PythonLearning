{
 "cells": [
  {
   "cell_type": "code",
   "execution_count": 81,
   "metadata": {},
   "outputs": [
    {
     "name": "stdout",
     "output_type": "stream",
     "text": [
      "Hello, W\n",
      "Naveen Balani\n"
     ]
    }
   ],
   "source": [
    "#Slice\n",
    "a = \"Hello, World!\"\n",
    "print(a[0:8])\n",
    "\n",
    "\n",
    "b = \"Naveen Balani\"\n",
    "print(b[0:13])\n"
   ]
  },
  {
   "cell_type": "code",
   "execution_count": 82,
   "metadata": {},
   "outputs": [
    {
     "name": "stdout",
     "output_type": "stream",
     "text": [
      "Star\n",
      " End\n"
     ]
    }
   ],
   "source": [
    "c = \"Start From\"\n",
    "print(c[:4])\n",
    "\n",
    "b = \"From End\"\n",
    "print(b[4:])\n",
    "\n"
   ]
  },
  {
   "cell_type": "code",
   "execution_count": 83,
   "metadata": {},
   "outputs": [
    {
     "name": "stdout",
     "output_type": "stream",
     "text": [
      "orl\n"
     ]
    }
   ],
   "source": [
    "b = \"Hello, World!\"\n",
    "print(b[-5:-2])\n"
   ]
  },
  {
   "cell_type": "code",
   "execution_count": 84,
   "metadata": {},
   "outputs": [
    {
     "name": "stdout",
     "output_type": "stream",
     "text": [
      "HELLO WORLD!\n"
     ]
    }
   ],
   "source": [
    "#Upper Case\n",
    "#Example\n",
    "#The upper() method returns the string in upper case:\n",
    "\n",
    "a = \"Hello World!\"\n",
    "print(a.upper())"
   ]
  },
  {
   "cell_type": "code",
   "execution_count": 85,
   "metadata": {},
   "outputs": [
    {
     "name": "stdout",
     "output_type": "stream",
     "text": [
      "hello world!\n"
     ]
    }
   ],
   "source": [
    "b = \"Hello World!\"\n",
    "print(b.lower())\n"
   ]
  },
  {
   "cell_type": "code",
   "execution_count": 86,
   "metadata": {},
   "outputs": [
    {
     "name": "stdout",
     "output_type": "stream",
     "text": [
      "Hello World!\n"
     ]
    }
   ],
   "source": [
    "c = \"Hello World!\"\n",
    "print(c.strip())"
   ]
  },
  {
   "cell_type": "code",
   "execution_count": 87,
   "metadata": {},
   "outputs": [
    {
     "name": "stdout",
     "output_type": "stream",
     "text": [
      "jello, World!\n"
     ]
    }
   ],
   "source": [
    "d = \"Hello, World!\"\n",
    "print(d.replace(\"H\", \"j\"))"
   ]
  },
  {
   "cell_type": "code",
   "execution_count": 88,
   "metadata": {},
   "outputs": [
    {
     "name": "stdout",
     "output_type": "stream",
     "text": [
      "['Hello', ' World!']\n"
     ]
    }
   ],
   "source": [
    "#Split String\n",
    "#The split() method returns a list where the text between the specified separator becomes the list items.\n",
    "#Example The split() method splits the string into substrings if it finds instances of the separator:\n",
    "e = \"Hello, World!\"\n",
    "print(e.split(\",\"))\n"
   ]
  },
  {
   "cell_type": "code",
   "execution_count": 89,
   "metadata": {},
   "outputs": [
    {
     "name": "stdout",
     "output_type": "stream",
     "text": [
      "HelloWorld\n",
      "Hello World\n"
     ]
    }
   ],
   "source": [
    "a = \"Hello\"\n",
    "b = \"World\"\n",
    "c = a + b\n",
    "print(c)\n",
    "\n",
    "d = \"Hello \"\n",
    "e = \"World\"\n",
    "f = d + e\n",
    "print(f)\n"
   ]
  },
  {
   "cell_type": "code",
   "execution_count": 90,
   "metadata": {},
   "outputs": [
    {
     "name": "stdout",
     "output_type": "stream",
     "text": [
      "Hello, World\n"
     ]
    }
   ],
   "source": [
    "#Example\n",
    "#To add a space between them, add a \" \":\n",
    "\n",
    "l = \"Hello,\"\n",
    "m = \"World\"\n",
    "n = l + \" \" + m\n",
    "print(n)"
   ]
  },
  {
   "cell_type": "code",
   "execution_count": 91,
   "metadata": {},
   "outputs": [
    {
     "name": "stdout",
     "output_type": "stream",
     "text": [
      "('Naveen kumar', '3133254772', '25', 'PECHS Karachi')\n"
     ]
    }
   ],
   "source": [
    "Name = \"Naveen kumar\"\n",
    "Phone = 3133254772\n",
    "Age = 25\n",
    "Address = \"PECHS Karachi\"\n",
    "\n",
    "txt = Name ,f\"{Phone}\",f\"{Age}\", Address\n",
    "print(txt) "
   ]
  },
  {
   "cell_type": "code",
   "execution_count": 92,
   "metadata": {},
   "outputs": [
    {
     "name": "stdout",
     "output_type": "stream",
     "text": [
      "My name is John, I am 36\n"
     ]
    }
   ],
   "source": [
    "age = 36\n",
    "txt = f\"My name is John, I am {age}\"\n",
    "print(txt)\n",
    "\n"
   ]
  },
  {
   "cell_type": "code",
   "execution_count": 93,
   "metadata": {},
   "outputs": [
    {
     "name": "stdout",
     "output_type": "stream",
     "text": [
      "The price is 59 dollars\n",
      "The price is 45000 dollars\n"
     ]
    }
   ],
   "source": [
    "price1 = 59\n",
    "txt2 = f\"The price is {price1} dollars\"\n",
    "print(txt2)\n",
    "\n",
    "price2 = 45000\n",
    "txt3 = f\"The price is {price2} dollars\"\n",
    "print(txt3)\n",
    "\n",
    "\n"
   ]
  },
  {
   "cell_type": "code",
   "execution_count": 94,
   "metadata": {},
   "outputs": [
    {
     "name": "stdout",
     "output_type": "stream",
     "text": [
      "('Samsung S22', '8 GB RAM 256GB ROM', '3700', '6.1', 'Qualcomm', '(194, 999)', 'Rupees')\n"
     ]
    }
   ],
   "source": [
    "Model = \"Samsung S22\"\n",
    "Storage = \"8 GB RAM\" \" 256GB ROM\"\n",
    "Battery = 3700\n",
    "Screen = 6.1\n",
    "Processor = \"Qualcomm\" \n",
    "Price = 194,999 \n",
    "Pwords = \"Rupees\"\n",
    "\n",
    "Mobile = Model,Storage, f\"{Battery}\" , f\"{Screen}\", Processor, f\"{Price}\" , Pwords\n",
    "print(Mobile)"
   ]
  },
  {
   "cell_type": "code",
   "execution_count": 95,
   "metadata": {},
   "outputs": [
    {
     "name": "stdout",
     "output_type": "stream",
     "text": [
      "('HP Intel(R) Core(TM) i5-4300U CPU @ 1.90GHz   2.50 GHz', 'Rs.', '60000.00', '8GB', '256 GB')\n"
     ]
    }
   ],
   "source": [
    "Laptop = \"HP Intel(R) Core(TM) i5-4300U CPU @ 1.90GHz   2.50 GHz\"\n",
    "Aaras = \"Rs.\"\n",
    "Rs = 60000\n",
    "Ram = \"8GB\"\n",
    "ssd = \"256 GB\"\n",
    "\n",
    "Lap = Laptop, Aaras,f\"{Rs:.2f}\",Ram,ssd\n",
    "print(Lap)\n",
    "\n"
   ]
  },
  {
   "cell_type": "code",
   "execution_count": 96,
   "metadata": {},
   "outputs": [
    {
     "name": "stdout",
     "output_type": "stream",
     "text": [
      "Addition '10+15' = 25 is that \n",
      "Subtraction '55-25' = 30 is that \n",
      "Multiplication '5*3' =  15 is that \n",
      "Division '100/4' = 25.0 is that \n",
      "Modulus '1%6' = 1 is that \n",
      "Exponentiation '2**5' = 32 is that \n",
      "Floor division '15//2' = 7 is that\n"
     ]
    }
   ],
   "source": [
    "\n",
    "\n",
    "Add = f\"Addition '10+15' = {10 + 15} is that \"\n",
    "print(Add)\n",
    "\n",
    "Subs = f\"Subtraction '55-25' = {55 - 25} is that \"\n",
    "print(Subs)\n",
    "\n",
    "multi = f\"Multiplication '5*3' =  {5 * 3} is that \"\n",
    "print(multi)\n",
    "\n",
    "Div = f\"Division '100/4' = {100 / 4} is that \"\n",
    "print(Div)\n",
    "\n",
    "Mod = f\"Modulus '1%6' = {1 % 6} is that \"\n",
    "print(Mod)\n",
    "\n",
    "Expon = f\"Exponentiation '2**5' = { 2 ** 5} is that \" #same as 2*2*2*2*2\n",
    "print(Expon)\n",
    "\n",
    "Floordiv = f\"Floor division '15//2' = {15 // 2} is that\"\n",
    "print(Floordiv)\n",
    "\n",
    "#the floor division // rounds the result down to the nearest whole number\n",
    "\n"
   ]
  },
  {
   "cell_type": "code",
   "execution_count": 97,
   "metadata": {},
   "outputs": [
    {
     "name": "stdout",
     "output_type": "stream",
     "text": [
      "'\n",
      "It's alright.\n"
     ]
    }
   ],
   "source": [
    "print(\"\\'\")\n",
    "alright = 'It\\'s alright.'\n",
    "print(alright) "
   ]
  },
  {
   "cell_type": "markdown",
   "metadata": {},
   "source": [
    "txt = \"This will insert one \\\\ (backslash).\"\n",
    "print(txt) "
   ]
  },
  {
   "cell_type": "code",
   "execution_count": 98,
   "metadata": {},
   "outputs": [
    {
     "name": "stdout",
     "output_type": "stream",
     "text": [
      "This will insert one \\ (backslash).\n"
     ]
    }
   ],
   "source": [
    "txt = \"This will insert one \\\\ (backslash).\"\n",
    "print(txt) "
   ]
  },
  {
   "cell_type": "code",
   "execution_count": 99,
   "metadata": {},
   "outputs": [
    {
     "name": "stdout",
     "output_type": "stream",
     "text": [
      "when you add \\\\ (backslash it will show single backslah\n",
      "This will insert one \\ (backslash).\n"
     ]
    },
    {
     "name": "stderr",
     "output_type": "stream",
     "text": [
      "<>:1: SyntaxWarning: invalid escape sequence '\\ '\n",
      "<>:1: SyntaxWarning: invalid escape sequence '\\ '\n",
      "C:\\Users\\naveen.kumar\\AppData\\Local\\Temp\\ipykernel_11412\\2202178243.py:1: SyntaxWarning: invalid escape sequence '\\ '\n",
      "  print(\"when you add \\\\\\ (backslash it will show single backslah\")\n"
     ]
    }
   ],
   "source": [
    "print(\"when you add \\\\\\ (backslash it will show single backslah\")\n",
    "txt = \"This will insert one \\\\ (backslash).\"\n",
    "print(txt) \n"
   ]
  },
  {
   "cell_type": "code",
   "execution_count": 102,
   "metadata": {},
   "outputs": [
    {
     "name": "stdout",
     "output_type": "stream",
     "text": [
      "when you add double (backslash it will show single backslah\n",
      "This will insert one \\ (backslash).\n"
     ]
    }
   ],
   "source": [
    "print(\"when you add double (backslash it will show single backslah\")\n",
    "txt = \"This will insert one \\\\ (backslash).\"\n",
    "print(txt) \n"
   ]
  },
  {
   "cell_type": "code",
   "execution_count": 104,
   "metadata": {},
   "outputs": [
    {
     "name": "stdout",
     "output_type": "stream",
     "text": [
      "whenever you want to add a new line kindly add backslah and simple type with it n next word will be on new line\n",
      "Naveen\n",
      "Balani\n"
     ]
    }
   ],
   "source": [
    "print(\"whenever you want to add a new line kindly add backslah and simple type with it n next word will be on new line\")\n",
    "New = \"Naveen\\nBalani\"\n",
    "print(New) "
   ]
  },
  {
   "cell_type": "code",
   "execution_count": 108,
   "metadata": {},
   "outputs": [
    {
     "name": "stdout",
     "output_type": "stream",
     "text": [
      "Carriage Return (backslash and r) it is will work like new line \n",
      "World!\n"
     ]
    }
   ],
   "source": [
    "print(\"Carriage Return (backslash and r) it is will work like new line \")\n",
    "Carret = \"Hello\\rWorld!\"\n",
    "print(Carret) "
   ]
  },
  {
   "cell_type": "code",
   "execution_count": 109,
   "metadata": {},
   "outputs": [
    {
     "name": "stdout",
     "output_type": "stream",
     "text": [
      "backslash with t it will add space like tab \n",
      "Hello\tWorld!\n"
     ]
    }
   ],
   "source": [
    "print(\"backslash with t it will add space like tab \")\n",
    "Tab = \"Hello\\tWorld!\"\n",
    "print(Tab) "
   ]
  },
  {
   "cell_type": "code",
   "execution_count": 113,
   "metadata": {},
   "outputs": [
    {
     "name": "stdout",
     "output_type": "stream",
     "text": [
      "Hello World!\n"
     ]
    }
   ],
   "source": [
    "#This example erases one character (backspace):\n",
    "backsp = \"Hello  \\bWorld!\"\n",
    "print(backsp) \n"
   ]
  },
  {
   "cell_type": "code",
   "execution_count": 114,
   "metadata": {},
   "outputs": [
    {
     "name": "stdout",
     "output_type": "stream",
     "text": [
      "Hello\n"
     ]
    }
   ],
   "source": [
    "#A backslash followed by three integers will result in a octal value:\n",
    "octval = \"\\110\\145\\154\\154\\157\"\n",
    "print(octval) "
   ]
  },
  {
   "cell_type": "code",
   "execution_count": 115,
   "metadata": {},
   "outputs": [
    {
     "name": "stdout",
     "output_type": "stream",
     "text": [
      "Hello\n"
     ]
    }
   ],
   "source": [
    "#A backslash followed by an 'x' and a hex number represents a hex value:\n",
    "hexval = \"\\x48\\x65\\x6c\\x6c\\x6f\"\n",
    "print(hexval) "
   ]
  },
  {
   "cell_type": "code",
   "execution_count": 116,
   "metadata": {},
   "outputs": [
    {
     "name": "stdout",
     "output_type": "stream",
     "text": [
      "My name is naveen\n"
     ]
    }
   ],
   "source": [
    "Capt = \"my name is naveen\"\n",
    "\n",
    "b = Capt.capitalize()\n",
    "print(b)"
   ]
  },
  {
   "cell_type": "code",
   "execution_count": 121,
   "metadata": {},
   "outputs": [
    {
     "name": "stdout",
     "output_type": "stream",
     "text": [
      "Python is best\n"
     ]
    }
   ],
   "source": [
    "Capt1 = \"python is best\"\n",
    "c = Capt1.capitalize()\n",
    "print(c)"
   ]
  },
  {
   "cell_type": "code",
   "execution_count": 122,
   "metadata": {},
   "outputs": [
    {
     "name": "stdout",
     "output_type": "stream",
     "text": [
      "36 is my age.\n"
     ]
    }
   ],
   "source": [
    "#Example See what happens if the first character is a number:\n",
    "Capt2 = \"36 is my age.\"\n",
    "\n",
    "d = Capt2.capitalize()\n",
    "\n",
    "print (d)"
   ]
  },
  {
   "cell_type": "code",
   "execution_count": 123,
   "metadata": {},
   "outputs": [
    {
     "name": "stdout",
     "output_type": "stream",
     "text": [
      "hello, and welcome to my world!\n"
     ]
    }
   ],
   "source": [
    "txt = \"Hello, And Welcome To My World!\"\n",
    "\n",
    "x = txt.casefold()\n",
    "\n",
    "print(x)\n"
   ]
  },
  {
   "cell_type": "code",
   "execution_count": 125,
   "metadata": {},
   "outputs": [
    {
     "name": "stdout",
     "output_type": "stream",
     "text": [
      "                                               banana                                               \n"
     ]
    }
   ],
   "source": [
    "Cent = \"banana\"\n",
    "\n",
    "e = Cent.center(100)\n",
    "\n",
    "print(e)\n"
   ]
  },
  {
   "cell_type": "code",
   "execution_count": 126,
   "metadata": {},
   "outputs": [
    {
     "name": "stdout",
     "output_type": "stream",
     "text": [
      "True\n",
      "False\n",
      "False\n"
     ]
    }
   ],
   "source": [
    "print(10 > 9)\n",
    "print(10 == 9)\n",
    "print(10 < 9)"
   ]
  },
  {
   "cell_type": "code",
   "execution_count": 127,
   "metadata": {},
   "outputs": [
    {
     "name": "stdout",
     "output_type": "stream",
     "text": [
      "b is not greater than a\n"
     ]
    }
   ],
   "source": [
    "a = 200\n",
    "b = 33\n",
    "\n",
    "if b > a:\n",
    "  print(\"b is greater than a\")\n",
    "else:a\n",
    "print(\"b is not greater than a\")\n"
   ]
  },
  {
   "cell_type": "code",
   "execution_count": 137,
   "metadata": {},
   "outputs": [
    {
     "name": "stdout",
     "output_type": "stream",
     "text": [
      "True\n",
      "False\n",
      "True\n"
     ]
    }
   ],
   "source": [
    "print(bool(\"Hello\"))\n",
    "print(bool(\"\"))\n",
    "print(bool(\"Heelo15\"))\n"
   ]
  },
  {
   "cell_type": "code",
   "execution_count": 136,
   "metadata": {},
   "outputs": [
    {
     "name": "stdout",
     "output_type": "stream",
     "text": [
      "False\n",
      "True\n"
     ]
    }
   ],
   "source": [
    "c = \"\"\n",
    "d = \"'15'\"\n",
    "\n",
    "print(bool(c))\n",
    "print(bool(d))\n"
   ]
  },
  {
   "cell_type": "code",
   "execution_count": 140,
   "metadata": {},
   "outputs": [
    {
     "name": "stdout",
     "output_type": "stream",
     "text": [
      "True\n",
      "False\n",
      "True\n",
      "False\n",
      "False\n"
     ]
    }
   ],
   "source": [
    "c = \"Hello\"\n",
    "d = \"\"\n",
    "e = 15\n",
    "f = 0\n",
    "\n",
    "print(bool(c))\n",
    "print(bool(d))\n",
    "print(bool(e))\n",
    "print(bool(f))\n",
    "print(bool(None))"
   ]
  },
  {
   "cell_type": "code",
   "execution_count": 141,
   "metadata": {},
   "outputs": [
    {
     "name": "stdout",
     "output_type": "stream",
     "text": [
      "True\n",
      "True\n",
      "True\n"
     ]
    }
   ],
   "source": [
    "print(bool(\"abc\"))\n",
    "print(bool(123))\n",
    "print(bool([\"apple\", \"cherry\", \"banana\"]))\n",
    "    "
   ]
  },
  {
   "cell_type": "code",
   "execution_count": 142,
   "metadata": {},
   "outputs": [
    {
     "name": "stdout",
     "output_type": "stream",
     "text": [
      "False\n",
      "False\n",
      "False\n",
      "False\n",
      "False\n",
      "False\n",
      "False\n"
     ]
    }
   ],
   "source": [
    "print(bool(False))\n",
    "print(bool(None))\n",
    "print(bool(0))\n",
    "print(bool(\"\"))\n",
    "print(bool(()))\n",
    "print(bool([]))\n",
    "print(bool({}))"
   ]
  },
  {
   "cell_type": "code",
   "execution_count": 143,
   "metadata": {},
   "outputs": [
    {
     "name": "stdout",
     "output_type": "stream",
     "text": [
      "True\n",
      "False\n"
     ]
    }
   ],
   "source": [
    "class myclass():\n",
    "  def __len__(self):\n",
    "    return 1\n",
    "\n",
    "myobj = myclass()\n",
    "print(bool(myobj))\n",
    "\n",
    "\n",
    "\n",
    "class myclass1():\n",
    "  def __len__(self):\n",
    "    return 0\n",
    "\n",
    "myobj1 = myclass1()\n",
    "print(bool(myobj1))"
   ]
  },
  {
   "cell_type": "code",
   "execution_count": 144,
   "metadata": {},
   "outputs": [
    {
     "name": "stdout",
     "output_type": "stream",
     "text": [
      "True\n"
     ]
    }
   ],
   "source": [
    "def myFunction() :\n",
    "  return True\n",
    "\n",
    "print(myFunction())"
   ]
  },
  {
   "cell_type": "code",
   "execution_count": 147,
   "metadata": {},
   "outputs": [
    {
     "name": "stdout",
     "output_type": "stream",
     "text": [
      "NO!\n",
      "YES!\n"
     ]
    }
   ],
   "source": [
    "def myFunction() :\n",
    "  return False\n",
    "\n",
    "if myFunction():\n",
    "  print(\"YES!\")\n",
    "else:\n",
    "  print(\"NO!\")\n",
    "  \n",
    "  \n",
    "  def myFunction1() :\n",
    "    return True\n",
    "\n",
    "if myFunction1():\n",
    "  print(\"YES!\")\n",
    "else:\n",
    "  print(\"NO!\")"
   ]
  },
  {
   "cell_type": "code",
   "execution_count": null,
   "metadata": {},
   "outputs": [],
   "source": []
  }
 ],
 "metadata": {
  "kernelspec": {
   "display_name": "base",
   "language": "python",
   "name": "python3"
  },
  "language_info": {
   "codemirror_mode": {
    "name": "ipython",
    "version": 3
   },
   "file_extension": ".py",
   "mimetype": "text/x-python",
   "name": "python",
   "nbconvert_exporter": "python",
   "pygments_lexer": "ipython3",
   "version": "3.12.7"
  }
 },
 "nbformat": 4,
 "nbformat_minor": 2
}
